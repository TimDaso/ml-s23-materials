{
 "cells": [
  {
   "cell_type": "markdown",
   "id": "a3105af4-db8f-4066-a4a6-5a599932674c",
   "metadata": {},
   "source": [
    "# Linear Regression Lab"
   ]
  },
  {
   "cell_type": "code",
   "execution_count": 2,
   "id": "13f397ae-6771-4a67-a345-b8b72dc083f4",
   "metadata": {},
   "outputs": [
    {
     "data": {
      "text/html": [
       "<div>\n",
       "<style scoped>\n",
       "    .dataframe tbody tr th:only-of-type {\n",
       "        vertical-align: middle;\n",
       "    }\n",
       "\n",
       "    .dataframe tbody tr th {\n",
       "        vertical-align: top;\n",
       "    }\n",
       "\n",
       "    .dataframe thead th {\n",
       "        text-align: right;\n",
       "    }\n",
       "</style>\n",
       "<table border=\"1\" class=\"dataframe\">\n",
       "  <thead>\n",
       "    <tr style=\"text-align: right;\">\n",
       "      <th></th>\n",
       "      <th>sqft</th>\n",
       "      <th>bedrooms</th>\n",
       "      <th>price</th>\n",
       "    </tr>\n",
       "  </thead>\n",
       "  <tbody>\n",
       "    <tr>\n",
       "      <th>0</th>\n",
       "      <td>2104</td>\n",
       "      <td>3</td>\n",
       "      <td>399900</td>\n",
       "    </tr>\n",
       "    <tr>\n",
       "      <th>1</th>\n",
       "      <td>1600</td>\n",
       "      <td>3</td>\n",
       "      <td>329900</td>\n",
       "    </tr>\n",
       "    <tr>\n",
       "      <th>2</th>\n",
       "      <td>2400</td>\n",
       "      <td>3</td>\n",
       "      <td>369000</td>\n",
       "    </tr>\n",
       "    <tr>\n",
       "      <th>3</th>\n",
       "      <td>1416</td>\n",
       "      <td>2</td>\n",
       "      <td>232000</td>\n",
       "    </tr>\n",
       "    <tr>\n",
       "      <th>4</th>\n",
       "      <td>3000</td>\n",
       "      <td>4</td>\n",
       "      <td>539900</td>\n",
       "    </tr>\n",
       "    <tr>\n",
       "      <th>5</th>\n",
       "      <td>1985</td>\n",
       "      <td>4</td>\n",
       "      <td>299900</td>\n",
       "    </tr>\n",
       "    <tr>\n",
       "      <th>6</th>\n",
       "      <td>1534</td>\n",
       "      <td>3</td>\n",
       "      <td>314900</td>\n",
       "    </tr>\n",
       "    <tr>\n",
       "      <th>7</th>\n",
       "      <td>1427</td>\n",
       "      <td>3</td>\n",
       "      <td>198999</td>\n",
       "    </tr>\n",
       "    <tr>\n",
       "      <th>8</th>\n",
       "      <td>1380</td>\n",
       "      <td>3</td>\n",
       "      <td>212000</td>\n",
       "    </tr>\n",
       "    <tr>\n",
       "      <th>9</th>\n",
       "      <td>1494</td>\n",
       "      <td>3</td>\n",
       "      <td>242500</td>\n",
       "    </tr>\n",
       "    <tr>\n",
       "      <th>10</th>\n",
       "      <td>1940</td>\n",
       "      <td>4</td>\n",
       "      <td>239999</td>\n",
       "    </tr>\n",
       "    <tr>\n",
       "      <th>11</th>\n",
       "      <td>2000</td>\n",
       "      <td>3</td>\n",
       "      <td>347000</td>\n",
       "    </tr>\n",
       "    <tr>\n",
       "      <th>12</th>\n",
       "      <td>1890</td>\n",
       "      <td>3</td>\n",
       "      <td>329999</td>\n",
       "    </tr>\n",
       "    <tr>\n",
       "      <th>13</th>\n",
       "      <td>4478</td>\n",
       "      <td>5</td>\n",
       "      <td>699900</td>\n",
       "    </tr>\n",
       "    <tr>\n",
       "      <th>14</th>\n",
       "      <td>1268</td>\n",
       "      <td>3</td>\n",
       "      <td>259900</td>\n",
       "    </tr>\n",
       "    <tr>\n",
       "      <th>15</th>\n",
       "      <td>2300</td>\n",
       "      <td>4</td>\n",
       "      <td>449900</td>\n",
       "    </tr>\n",
       "    <tr>\n",
       "      <th>16</th>\n",
       "      <td>1320</td>\n",
       "      <td>2</td>\n",
       "      <td>299900</td>\n",
       "    </tr>\n",
       "    <tr>\n",
       "      <th>17</th>\n",
       "      <td>1236</td>\n",
       "      <td>3</td>\n",
       "      <td>199900</td>\n",
       "    </tr>\n",
       "    <tr>\n",
       "      <th>18</th>\n",
       "      <td>2609</td>\n",
       "      <td>4</td>\n",
       "      <td>499998</td>\n",
       "    </tr>\n",
       "    <tr>\n",
       "      <th>19</th>\n",
       "      <td>3031</td>\n",
       "      <td>4</td>\n",
       "      <td>599000</td>\n",
       "    </tr>\n",
       "    <tr>\n",
       "      <th>20</th>\n",
       "      <td>1767</td>\n",
       "      <td>3</td>\n",
       "      <td>252900</td>\n",
       "    </tr>\n",
       "    <tr>\n",
       "      <th>21</th>\n",
       "      <td>1888</td>\n",
       "      <td>2</td>\n",
       "      <td>255000</td>\n",
       "    </tr>\n",
       "    <tr>\n",
       "      <th>22</th>\n",
       "      <td>1604</td>\n",
       "      <td>3</td>\n",
       "      <td>242900</td>\n",
       "    </tr>\n",
       "    <tr>\n",
       "      <th>23</th>\n",
       "      <td>1962</td>\n",
       "      <td>4</td>\n",
       "      <td>259900</td>\n",
       "    </tr>\n",
       "    <tr>\n",
       "      <th>24</th>\n",
       "      <td>3890</td>\n",
       "      <td>3</td>\n",
       "      <td>573900</td>\n",
       "    </tr>\n",
       "    <tr>\n",
       "      <th>25</th>\n",
       "      <td>1100</td>\n",
       "      <td>3</td>\n",
       "      <td>249900</td>\n",
       "    </tr>\n",
       "    <tr>\n",
       "      <th>26</th>\n",
       "      <td>1458</td>\n",
       "      <td>3</td>\n",
       "      <td>464500</td>\n",
       "    </tr>\n",
       "    <tr>\n",
       "      <th>27</th>\n",
       "      <td>2526</td>\n",
       "      <td>3</td>\n",
       "      <td>469000</td>\n",
       "    </tr>\n",
       "    <tr>\n",
       "      <th>28</th>\n",
       "      <td>2200</td>\n",
       "      <td>3</td>\n",
       "      <td>475000</td>\n",
       "    </tr>\n",
       "    <tr>\n",
       "      <th>29</th>\n",
       "      <td>2637</td>\n",
       "      <td>3</td>\n",
       "      <td>299900</td>\n",
       "    </tr>\n",
       "    <tr>\n",
       "      <th>30</th>\n",
       "      <td>1839</td>\n",
       "      <td>2</td>\n",
       "      <td>349900</td>\n",
       "    </tr>\n",
       "    <tr>\n",
       "      <th>31</th>\n",
       "      <td>1000</td>\n",
       "      <td>1</td>\n",
       "      <td>169900</td>\n",
       "    </tr>\n",
       "    <tr>\n",
       "      <th>32</th>\n",
       "      <td>2040</td>\n",
       "      <td>4</td>\n",
       "      <td>314900</td>\n",
       "    </tr>\n",
       "    <tr>\n",
       "      <th>33</th>\n",
       "      <td>3137</td>\n",
       "      <td>3</td>\n",
       "      <td>579900</td>\n",
       "    </tr>\n",
       "    <tr>\n",
       "      <th>34</th>\n",
       "      <td>1811</td>\n",
       "      <td>4</td>\n",
       "      <td>285900</td>\n",
       "    </tr>\n",
       "    <tr>\n",
       "      <th>35</th>\n",
       "      <td>1437</td>\n",
       "      <td>3</td>\n",
       "      <td>249900</td>\n",
       "    </tr>\n",
       "    <tr>\n",
       "      <th>36</th>\n",
       "      <td>1239</td>\n",
       "      <td>3</td>\n",
       "      <td>229900</td>\n",
       "    </tr>\n",
       "    <tr>\n",
       "      <th>37</th>\n",
       "      <td>2132</td>\n",
       "      <td>4</td>\n",
       "      <td>345000</td>\n",
       "    </tr>\n",
       "    <tr>\n",
       "      <th>38</th>\n",
       "      <td>4215</td>\n",
       "      <td>4</td>\n",
       "      <td>549000</td>\n",
       "    </tr>\n",
       "    <tr>\n",
       "      <th>39</th>\n",
       "      <td>2162</td>\n",
       "      <td>4</td>\n",
       "      <td>287000</td>\n",
       "    </tr>\n",
       "    <tr>\n",
       "      <th>40</th>\n",
       "      <td>1664</td>\n",
       "      <td>2</td>\n",
       "      <td>368500</td>\n",
       "    </tr>\n",
       "    <tr>\n",
       "      <th>41</th>\n",
       "      <td>2238</td>\n",
       "      <td>3</td>\n",
       "      <td>329900</td>\n",
       "    </tr>\n",
       "    <tr>\n",
       "      <th>42</th>\n",
       "      <td>2567</td>\n",
       "      <td>4</td>\n",
       "      <td>314000</td>\n",
       "    </tr>\n",
       "    <tr>\n",
       "      <th>43</th>\n",
       "      <td>1200</td>\n",
       "      <td>3</td>\n",
       "      <td>299000</td>\n",
       "    </tr>\n",
       "    <tr>\n",
       "      <th>44</th>\n",
       "      <td>852</td>\n",
       "      <td>2</td>\n",
       "      <td>179900</td>\n",
       "    </tr>\n",
       "    <tr>\n",
       "      <th>45</th>\n",
       "      <td>1852</td>\n",
       "      <td>4</td>\n",
       "      <td>299900</td>\n",
       "    </tr>\n",
       "    <tr>\n",
       "      <th>46</th>\n",
       "      <td>1203</td>\n",
       "      <td>3</td>\n",
       "      <td>239500</td>\n",
       "    </tr>\n",
       "  </tbody>\n",
       "</table>\n",
       "</div>"
      ],
      "text/plain": [
       "    sqft  bedrooms   price\n",
       "0   2104         3  399900\n",
       "1   1600         3  329900\n",
       "2   2400         3  369000\n",
       "3   1416         2  232000\n",
       "4   3000         4  539900\n",
       "5   1985         4  299900\n",
       "6   1534         3  314900\n",
       "7   1427         3  198999\n",
       "8   1380         3  212000\n",
       "9   1494         3  242500\n",
       "10  1940         4  239999\n",
       "11  2000         3  347000\n",
       "12  1890         3  329999\n",
       "13  4478         5  699900\n",
       "14  1268         3  259900\n",
       "15  2300         4  449900\n",
       "16  1320         2  299900\n",
       "17  1236         3  199900\n",
       "18  2609         4  499998\n",
       "19  3031         4  599000\n",
       "20  1767         3  252900\n",
       "21  1888         2  255000\n",
       "22  1604         3  242900\n",
       "23  1962         4  259900\n",
       "24  3890         3  573900\n",
       "25  1100         3  249900\n",
       "26  1458         3  464500\n",
       "27  2526         3  469000\n",
       "28  2200         3  475000\n",
       "29  2637         3  299900\n",
       "30  1839         2  349900\n",
       "31  1000         1  169900\n",
       "32  2040         4  314900\n",
       "33  3137         3  579900\n",
       "34  1811         4  285900\n",
       "35  1437         3  249900\n",
       "36  1239         3  229900\n",
       "37  2132         4  345000\n",
       "38  4215         4  549000\n",
       "39  2162         4  287000\n",
       "40  1664         2  368500\n",
       "41  2238         3  329900\n",
       "42  2567         4  314000\n",
       "43  1200         3  299000\n",
       "44   852         2  179900\n",
       "45  1852         4  299900\n",
       "46  1203         3  239500"
      ]
     },
     "execution_count": 2,
     "metadata": {},
     "output_type": "execute_result"
    }
   ],
   "source": [
    "import numpy as np\n",
    "import matplotlib.pyplot as plt\n",
    "import pandas as pd\n",
    "\n",
    "df = pd.read_csv(\"housing.csv\")\n",
    "df"
   ]
  },
  {
   "cell_type": "code",
   "execution_count": 3,
   "id": "2a2ecbcb-88fd-43d8-a148-4b92369a7782",
   "metadata": {},
   "outputs": [
    {
     "name": "stdout",
     "output_type": "stream",
     "text": [
      "Training data for x:  [2104 1600 2400 1416 3000 1985 1534 1427 1380 1494 1940 2000 1890 4478\n",
      " 1268 2300 1320 1236 2609 3031 1767 1888 1604 1962 3890 1100 1458 2526\n",
      " 2200 2637 1839 1000 2040 3137 1811 1437 1239 2132 4215 2162 1664 2238\n",
      " 2567 1200  852 1852 1203]\n",
      "Training data for y:  [399900 329900 369000 232000 539900 299900 314900 198999 212000 242500\n",
      " 239999 347000 329999 699900 259900 449900 299900 199900 499998 599000\n",
      " 252900 255000 242900 259900 573900 249900 464500 469000 475000 299900\n",
      " 349900 169900 314900 579900 285900 249900 229900 345000 549000 287000\n",
      " 368500 329900 314000 299000 179900 299900 239500]\n"
     ]
    }
   ],
   "source": [
    "# Set up our training data\n",
    "x_train = df['sqft'].to_numpy()\n",
    "y_train = df['price'].to_numpy()\n",
    "\n",
    "# To use only a subset of the training data, use a slice of the arrays above.\n",
    "\n",
    "print(\"Training data for x: \", x_train)\n",
    "print(\"Training data for y: \", y_train)"
   ]
  },
  {
   "cell_type": "code",
   "execution_count": 4,
   "id": "89ca682e-05e9-473d-8007-167e833de517",
   "metadata": {},
   "outputs": [
    {
     "data": {
      "image/png": "[encoded data removed]",
      "text/plain": [
       "<Figure size 432x288 with 1 Axes>"
      ]
     },
     "metadata": {
      "needs_background": "light"
     },
     "output_type": "display_data"
    }
   ],
   "source": [
    "# Make a nice plot\n",
    "\n",
    "plt.scatter(x_train, y_train)\n",
    "plt.show()"
   ]
  },
  {
   "cell_type": "code",
   "execution_count": 5,
   "id": "2c37d659-6c7e-4e75-a4d5-1b6cbe7be0e3",
   "metadata": {},
   "outputs": [
    {
     "data": {
      "image/png": "[encoded data removed]",
      "text/plain": [
       "<Figure size 432x288 with 1 Axes>"
      ]
     },
     "metadata": {
      "needs_background": "light"
     },
     "output_type": "display_data"
    }
   ],
   "source": [
    "# Make a nice plot with a line based on the equation y = wx + b\n",
    "\n",
    "plt.scatter(x_train, y_train)\n",
    "\n",
    "# Set up dummy values for w and b\n",
    "w = 150\n",
    "b = 40000\n",
    " \n",
    "# Generate points on our line y = wx + b to graph\n",
    "line_x_points = np.linspace(min(x_train), max(x_train), 100)\n",
    "line_y_points = [w * x + b for x in line_x_points]\n",
    "\n",
    "plt.plot(line_x_points, line_y_points, c='red')\n",
    "plt.show()"
   ]
  },
  {
   "cell_type": "code",
   "execution_count": 18,
   "id": "c2b8d43e-6b7d-4295-be38-b3d578a38e89",
   "metadata": {},
   "outputs": [
    {
     "data": {
      "image/png": "[encoded data removed]",
      "text/plain": [
       "<Figure size 432x288 with 1 Axes>"
      ]
     },
     "metadata": {
      "needs_background": "light"
     },
     "output_type": "display_data"
    }
   ],
   "source": [
    "# Let's turn it into a function:\n",
    "\n",
    "def make_plot(x_train, y_train, w, b):\n",
    "    plt.scatter(x_train, y_train)\n",
    "\n",
    "    line_x_points = np.linspace(min(x_train), max(x_train), 100)\n",
    "    line_y_points = [w * x + b for x in line_x_points]\n",
    "    \n",
    "    plt.plot(line_x_points, line_y_points, c='red')\n",
    "    plt.show()\n",
    "    \n",
    "make_plot(x_train, y_train, 150, 50000)"
   ]
  },
  {
   "cell_type": "code",
   "execution_count": 7,
   "id": "09c7c365-da60-4fcc-8e07-a3997c4c5d98",
   "metadata": {},
   "outputs": [],
   "source": [
    "# Let's define a function to predict y = f(x) = wx + b\n",
    "\n",
    "def make_prediction(x, w, b):\n",
    "    return w * x + b"
   ]
  },
  {
   "cell_type": "code",
   "execution_count": 8,
   "id": "1ccf1ce4-5478-4442-b2c3-896b375f05b8",
   "metadata": {},
   "outputs": [],
   "source": [
    "# Let's define a function to compute the cost J(w, b) on a set of data:\n",
    "\n",
    "def compute_cost(x_data, y_data, w, b):\n",
    "    \"\"\"\n",
    "    x_data and y_data are lists\n",
    "    w and b are scalars\n",
    "    return: gradient of w, gradient of b\n",
    "    \"\"\"\n",
    "    sumOfThings = 0\n",
    "    for i in range(0, len(x_data)):\n",
    "        sumOfThings += (make_prediction(x_data[i], w, b) - y_data[i])**2\n",
    "    return sumOfThings / (2 * len(x_data))"
   ]
  },
  {
   "cell_type": "code",
   "execution_count": 19,
   "id": "7aa68c09-bcb3-4569-b14c-e411845b76ec",
   "metadata": {},
   "outputs": [
    {
     "name": "stdout",
     "output_type": "stream",
     "text": [
      "2179084569.2234044\n"
     ]
    }
   ],
   "source": [
    "# Output total cost for our data set:\n",
    "\n",
    "w = 150\n",
    "b = 50000\n",
    "\n",
    "print(compute_cost(x_train, y_train, w, b))"
   ]
  },
  {
   "cell_type": "code",
   "execution_count": 22,
   "id": "76ebe600-a789-4c2b-ab1e-300784f5a8ca",
   "metadata": {},
   "outputs": [],
   "source": [
    "# Let's write a function to compute the gradient:\n",
    "\n",
    "def compute_gradient(x_data, y_data, w, b):\n",
    "    \"\"\"\n",
    "    x_data and y_data are lists\n",
    "    w and b are scalars\n",
    "    return: gradient of w, gradient of b\n",
    "    \"\"\"\n",
    "    w_grad = 0\n",
    "    b_grad = 0\n",
    "    m = len(x_data)\n",
    "    for i in range(0, m):\n",
    "        y_hat_minus_y = make_prediction(x_data[i], w, b) - y_data[i]\n",
    "        w_grad +=  y_hat_minus_y * x_data[i]\n",
    "        b_grad += y_hat_minus_y\n",
    "    w_grad /= m\n",
    "    b_grad /= m\n",
    "    return w_grad, b_grad"
   ]
  },
  {
   "cell_type": "code",
   "execution_count": 79,
   "id": "63126780-7331-489b-905a-737efac3dc8e",
   "metadata": {},
   "outputs": [
    {
     "name": "stdout",
     "output_type": "stream",
     "text": [
      "w_change is 64444404.787234046 so new w is  168.5555595212766\n",
      "b_change is 19706.489361702126 so new b is  -9706.489361702126\n",
      "Cost is now 2499157615.3898106\n",
      "\n",
      "w_change is 187654.03698706432 so new w is  134.93716889593955\n",
      "b_change is -39.25407839439279 so new b is  70408.90608375355\n",
      "Cost is now 2058185875.5563157\n",
      "\n",
      "w_change is 2179.9778845415035 so new w is  134.53007254591563\n",
      "b_change is -0.45601482466148074 so new b is  71260.48339562588\n",
      "Cost is now 2058132747.6038816\n",
      "\n",
      "w_change is 25.324813884960367 so new w is  134.5253433055851\n",
      "b_change is -0.0052975265338937655 so new b is  71270.37617350923\n",
      "Cost is now 2058132740.43401\n",
      "\n",
      "w_change is 0.29419849434510825 so new w is  134.52528836597654\n",
      "b_change is -6.154139013465573e-05 so new b is  71270.4910979593\n",
      "Cost is now 2058132740.4330418\n",
      "\n",
      "w_change is 0.003417680040001869 so new w is  134.52528772774284\n",
      "b_change is -7.149355951696634e-07 so new b is  71270.4924330372\n",
      "Cost is now 2058132740.433041\n",
      "\n",
      "w_change is 3.970996972094191e-05 so new w is  134.52528772032846\n",
      "b_change is -8.305118597568349e-09 so new b is  71270.49244854681\n",
      "Cost is now 2058132740.4330416\n",
      "\n",
      "w_change is 4.0516495070558916e-07 so new w is  134.52528772024235\n",
      "b_change is -1.2384608704993065e-10 so new b is  71270.492448727\n",
      "Cost is now 2058132740.4330418\n",
      "\n",
      "w_change is 1.3920300184412205e-07 so new w is  134.52528772024158\n",
      "b_change is -5.573073917246879e-12 so new b is  71270.49244872859\n",
      "Cost is now 2058132740.4330416\n",
      "\n",
      "w_change is 1.3920300184412205e-07 so new w is  134.52528772024158\n",
      "b_change is -5.573073917246879e-12 so new b is  71270.49244872859\n",
      "Cost is now 2058132740.4330416\n",
      "\n",
      "Final w and b: 134.52528772024158 71270.49244872859\n"
     ]
    }
   ],
   "source": [
    "# Let's write code to run gradient descent:\n",
    "\n",
    "w = 175\n",
    "b = 10000\n",
    "ALPHA = .0000001\n",
    "total = 1000\n",
    "J_list = []\n",
    "\n",
    "for i in range(total):\n",
    "    w_change, b_change = compute_gradient(x_train, y_train, w, b)\n",
    "    w -= ALPHA * w_change\n",
    "    b -= 1 * b_change\n",
    "    if (i%(total/10) == 0):\n",
    "        print(\"w_change is\", w_change, \"so new w is \", w)\n",
    "        print(\"b_change is\", b_change, \"so new b is \", b)\n",
    "        print(\"Cost is now\", compute_cost(x_train, y_train, w, b))\n",
    "        print()\n",
    "        J_list.append(compute_cost(x_train, y_train, w, b))\n",
    "\n",
    "print(\"Final w and b:\", w, b)"
   ]
  },
  {
   "cell_type": "code",
   "execution_count": 80,
   "id": "816573d7-bd23-400b-b500-8e9bf4304cbd",
   "metadata": {},
   "outputs": [
    {
     "data": {
      "text/plain": [
       "<matplotlib.collections.PathCollection at 0x7fa77a299ca0>"
      ]
     },
     "execution_count": 80,
     "metadata": {},
     "output_type": "execute_result"
    },
    {
     "data": {
      "image/png": "[encoded data removed]",
      "text/plain": [
       "<Figure size 432x288 with 1 Axes>"
      ]
     },
     "metadata": {
      "needs_background": "light"
     },
     "output_type": "display_data"
    }
   ],
   "source": [
    "# Let's plot the cost as a function of number of iterations of the\n",
    "# gradient descent algorithm.\n",
    "\n",
    "plt.scatter(range(0, len(J_list)), J_list)"
   ]
  },
  {
   "cell_type": "code",
   "execution_count": 81,
   "id": "cbcd0e8b-e695-403a-a6e0-eb69de5619c7",
   "metadata": {},
   "outputs": [
    {
     "data": {
      "image/png": "[encoded data removed]",
      "text/plain": [
       "<Figure size 432x288 with 1 Axes>"
      ]
     },
     "metadata": {
      "needs_background": "light"
     },
     "output_type": "display_data"
    }
   ],
   "source": [
    "# Produce final plot of our data and our line:\n",
    "\n",
    "make_plot(x_train, y_train, w, b)"
   ]
  },
  {
   "cell_type": "code",
   "execution_count": 82,
   "id": "05cd81e5-295f-4758-834f-57cd80c75c84",
   "metadata": {},
   "outputs": [
    {
     "name": "stdout",
     "output_type": "stream",
     "text": [
      "A house with 2000 square feet would sell for around 340321.06788921176 dollars.\n"
     ]
    }
   ],
   "source": [
    "# Make a new prediction:\n",
    "\n",
    "sqft = 2000\n",
    "prediction = make_prediction(sqft, w, b)\n",
    "\n",
    "print(\"A house with\", sqft, \"square feet would sell for around\", prediction, \"dollars.\")"
   ]
  },
  {
   "cell_type": "code",
   "execution_count": null,
   "id": "0d934fb9-bd3e-4ce5-9be5-b7d469a83850",
   "metadata": {},
   "outputs": [],
   "source": []
  },
  {
   "cell_type": "code",
   "execution_count": null,
   "id": "8f56eddf-f07e-4287-9c00-cc5e767a2647",
   "metadata": {},
   "outputs": [],
   "source": []
  }
 ],
 "metadata": {
  "kernelspec": {
   "display_name": "Python 3 (ipykernel)",
   "language": "python",
   "name": "python3"
  },
  "language_info": {
   "codemirror_mode": {
    "name": "ipython",
    "version": 3
   },
   "file_extension": ".py",
   "mimetype": "text/x-python",
   "name": "python",
   "nbconvert_exporter": "python",
   "pygments_lexer": "ipython3",
   "version": "3.9.12"
  }
 },
 "nbformat": 4,
 "nbformat_minor": 5
}
